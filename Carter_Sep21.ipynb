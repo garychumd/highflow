{
  "nbformat": 4,
  "nbformat_minor": 0,
  "metadata": {
    "kernelspec": {
      "display_name": "Python 3",
      "language": "python",
      "name": "python3"
    },
    "language_info": {
      "codemirror_mode": {
        "name": "ipython",
        "version": 3
      },
      "file_extension": ".py",
      "mimetype": "text/x-python",
      "name": "python",
      "nbconvert_exporter": "python",
      "pygments_lexer": "ipython3",
      "version": "3.8.3"
    },
    "colab": {
      "name": "Carter_Final.ipynb",
      "provenance": [],
      "collapsed_sections": [],
      "include_colab_link": true
    },
    "accelerator": "GPU"
  },
  "cells": [
    {
      "cell_type": "markdown",
      "metadata": {
        "id": "view-in-github",
        "colab_type": "text"
      },
      "source": [
        "<a href=\"https://colab.research.google.com/github/garychumd/highflow/blob/master/Carter_Sep21.ipynb\" target=\"_parent\"><img src=\"https://colab.research.google.com/assets/colab-badge.svg\" alt=\"Open In Colab\"/></a>"
      ]
    },
    {
      "cell_type": "markdown",
      "metadata": {
        "id": "QXpw4STWxnyu",
        "colab_type": "text"
      },
      "source": [
        "Import the libraries that we will be needing for this application."
      ]
    },
    {
      "cell_type": "code",
      "metadata": {
        "id": "-bR70BixWCRZ",
        "colab_type": "code",
        "colab": {}
      },
      "source": [
        "#necessary to run\n",
        "import pandas as pd\n",
        "import matplotlib.pyplot as plt\n",
        "import pylab as pl\n",
        "import numpy as np\n",
        "import seaborn as sns\n",
        "import xgboost as xgb\n",
        "from google.colab import drive\n",
        "\n",
        "from sklearn.model_selection import train_test_split\n",
        "from sklearn.metrics import accuracy_score, classification_report\n",
        "from sklearn import preprocessing"
      ],
      "execution_count": 59,
      "outputs": []
    },
    {
      "cell_type": "markdown",
      "metadata": {
        "id": "Nh1Csbzrx7Wn",
        "colab_type": "text"
      },
      "source": [
        "Give permissions to Google to access the data from your Google Drive."
      ]
    },
    {
      "cell_type": "code",
      "metadata": {
        "id": "ek1T146_WpiC",
        "colab_type": "code",
        "colab": {
          "base_uri": "https://localhost:8080/",
          "height": 34
        },
        "outputId": "d2f778d9-1920-4cff-9b40-3e2b6be4fb9b"
      },
      "source": [
        "#necessary to run\n",
        "drive.mount(\"drive\", force_remount=True)"
      ],
      "execution_count": 60,
      "outputs": [
        {
          "output_type": "stream",
          "text": [
            "Mounted at drive\n"
          ],
          "name": "stdout"
        }
      ]
    },
    {
      "cell_type": "markdown",
      "metadata": {
        "id": "ka2rT1w5zOUo",
        "colab_type": "text"
      },
      "source": [
        "Tell the application where the data is located and have it store the data so we can use it later."
      ]
    },
    {
      "cell_type": "code",
      "metadata": {
        "id": "adC_N5uDWCRh",
        "colab_type": "code",
        "colab": {}
      },
      "source": [
        "#necessary to run\n",
        "df = pd.read_csv(filepath_or_buffer='/content/drive/My Drive/Covid Master 300.csv', header=1, dtype=str)"
      ],
      "execution_count": 61,
      "outputs": []
    },
    {
      "cell_type": "markdown",
      "metadata": {
        "id": "bKuvbs94zYRu",
        "colab_type": "text"
      },
      "source": [
        "Show the first 10 points of data."
      ]
    },
    {
      "cell_type": "code",
      "metadata": {
        "scrolled": true,
        "id": "YZnz0PU_WCRo",
        "colab_type": "code",
        "colab": {
          "base_uri": "https://localhost:8080/",
          "height": 498
        },
        "outputId": "1a09fead-dd90-4f90-ac74-d8e691a09a7d"
      },
      "source": [
        "df.head(10)"
      ],
      "execution_count": 62,
      "outputs": [
        {
          "output_type": "execute_result",
          "data": {
            "text/html": [
              "<div>\n",
              "<style scoped>\n",
              "    .dataframe tbody tr th:only-of-type {\n",
              "        vertical-align: middle;\n",
              "    }\n",
              "\n",
              "    .dataframe tbody tr th {\n",
              "        vertical-align: top;\n",
              "    }\n",
              "\n",
              "    .dataframe thead th {\n",
              "        text-align: right;\n",
              "    }\n",
              "</style>\n",
              "<table border=\"1\" class=\"dataframe\">\n",
              "  <thead>\n",
              "    <tr style=\"text-align: right;\">\n",
              "      <th></th>\n",
              "      <th>Case #</th>\n",
              "      <th>Admission Date</th>\n",
              "      <th>Age</th>\n",
              "      <th>Sex</th>\n",
              "      <th>Ethnicity</th>\n",
              "      <th>Zip code</th>\n",
              "      <th>DM</th>\n",
              "      <th>HTN</th>\n",
              "      <th>Prior MI (Stent CABG)</th>\n",
              "      <th>CHF (HFrEF)</th>\n",
              "      <th>CHF (HFpEF)</th>\n",
              "      <th>OSA</th>\n",
              "      <th>Sick Contact hospitalized?</th>\n",
              "      <th>Chronic Lung Disease (COPD etc)</th>\n",
              "      <th>Immunne suppressed / Transplant</th>\n",
              "      <th>Liver Cirrhosis</th>\n",
              "      <th>ESRD on HD</th>\n",
              "      <th>Active Smoker / Vaping</th>\n",
              "      <th>Fomer smoker / vaper</th>\n",
              "      <th>Active pregnancy</th>\n",
              "      <th>BMI</th>\n",
              "      <th>Weight (kg)</th>\n",
              "      <th>SBP</th>\n",
              "      <th>DBP</th>\n",
              "      <th>P</th>\n",
              "      <th>R</th>\n",
              "      <th>Rom Air Sat</th>\n",
              "      <th>Temp (F)</th>\n",
              "      <th>Zero to 60 L oxygen</th>\n",
              "      <th>Oxyen sat on highest oxygen</th>\n",
              "      <th>CPAP / BiPAP</th>\n",
              "      <th>Intubation</th>\n",
              "      <th>HGBA1c (+/1 100 days)</th>\n",
              "      <th>WBC</th>\n",
              "      <th>HGB</th>\n",
              "      <th>Creat</th>\n",
              "      <th>ALT</th>\n",
              "      <th>TBILI</th>\n",
              "      <th>CRP</th>\n",
              "      <th>DDimer</th>\n",
              "      <th>Ferritin</th>\n",
              "      <th>LDH</th>\n",
              "      <th>Decadron</th>\n",
              "      <th>Remdesivir</th>\n",
              "      <th>Convalesent Plasma</th>\n",
              "      <th>SBP.1</th>\n",
              "      <th>DBP.1</th>\n",
              "      <th>P.1</th>\n",
              "      <th>R.1</th>\n",
              "      <th>Temp (F).1</th>\n",
              "      <th>Zero to 60 L oxygen.1</th>\n",
              "      <th>Oxyen sat on highest oxygen.1</th>\n",
              "      <th>CPAP / BiPAP.1</th>\n",
              "      <th>Intubation.1</th>\n",
              "      <th>WBC.1</th>\n",
              "      <th>HGB.1</th>\n",
              "      <th>Creat.1</th>\n",
              "      <th>ALT.1</th>\n",
              "      <th>TBILI.1</th>\n",
              "      <th>CRP.1</th>\n",
              "      <th>DDimer.1</th>\n",
              "      <th>Ferritin.1</th>\n",
              "      <th>LDH.1</th>\n",
              "      <th>Zero to 60 L oxygen.2</th>\n",
              "      <th>Oxyen sat on highest oxygen.2</th>\n",
              "      <th>CPAP / BiPAP.2</th>\n",
              "      <th>Intubation.2</th>\n",
              "      <th>Dead in 30 days</th>\n",
              "      <th>Crash &gt; 4 days</th>\n",
              "    </tr>\n",
              "  </thead>\n",
              "  <tbody>\n",
              "    <tr>\n",
              "      <th>0</th>\n",
              "      <td>1</td>\n",
              "      <td>6/14/2020</td>\n",
              "      <td>46</td>\n",
              "      <td>M</td>\n",
              "      <td>Latino</td>\n",
              "      <td>95822</td>\n",
              "      <td>no</td>\n",
              "      <td>no</td>\n",
              "      <td>no</td>\n",
              "      <td>no</td>\n",
              "      <td>no</td>\n",
              "      <td>no</td>\n",
              "      <td>no</td>\n",
              "      <td>no</td>\n",
              "      <td>no</td>\n",
              "      <td>no</td>\n",
              "      <td>no</td>\n",
              "      <td>no</td>\n",
              "      <td>no</td>\n",
              "      <td>no</td>\n",
              "      <td>28.87</td>\n",
              "      <td>102</td>\n",
              "      <td>139</td>\n",
              "      <td>71</td>\n",
              "      <td>117</td>\n",
              "      <td>24</td>\n",
              "      <td>75</td>\n",
              "      <td>103.3</td>\n",
              "      <td>6</td>\n",
              "      <td>91</td>\n",
              "      <td>no</td>\n",
              "      <td>no</td>\n",
              "      <td>6.2</td>\n",
              "      <td>14.4</td>\n",
              "      <td>10.9</td>\n",
              "      <td>0.86</td>\n",
              "      <td>37</td>\n",
              "      <td>0.8</td>\n",
              "      <td>14.5</td>\n",
              "      <td>0.57</td>\n",
              "      <td>652</td>\n",
              "      <td>375</td>\n",
              "      <td>yes</td>\n",
              "      <td>yes</td>\n",
              "      <td>no</td>\n",
              "      <td>115</td>\n",
              "      <td>65</td>\n",
              "      <td>78</td>\n",
              "      <td>28</td>\n",
              "      <td>99.9</td>\n",
              "      <td>60</td>\n",
              "      <td>97</td>\n",
              "      <td>yes</td>\n",
              "      <td>no</td>\n",
              "      <td>12.5</td>\n",
              "      <td>10.5</td>\n",
              "      <td>0.62</td>\n",
              "      <td>31</td>\n",
              "      <td>0.4</td>\n",
              "      <td>17</td>\n",
              "      <td>0.97</td>\n",
              "      <td>1111</td>\n",
              "      <td>684</td>\n",
              "      <td>yes</td>\n",
              "      <td>92</td>\n",
              "      <td>yes</td>\n",
              "      <td>no</td>\n",
              "      <td>no</td>\n",
              "      <td>NaN</td>\n",
              "    </tr>\n",
              "    <tr>\n",
              "      <th>1</th>\n",
              "      <td>2</td>\n",
              "      <td>6/16/2020</td>\n",
              "      <td>50</td>\n",
              "      <td>M</td>\n",
              "      <td>Latino</td>\n",
              "      <td>95624</td>\n",
              "      <td>no</td>\n",
              "      <td>no</td>\n",
              "      <td>no</td>\n",
              "      <td>no</td>\n",
              "      <td>no</td>\n",
              "      <td>no</td>\n",
              "      <td>yes</td>\n",
              "      <td>no</td>\n",
              "      <td>no</td>\n",
              "      <td>no</td>\n",
              "      <td>no</td>\n",
              "      <td>no</td>\n",
              "      <td>no</td>\n",
              "      <td>no</td>\n",
              "      <td>26.37</td>\n",
              "      <td>88.2</td>\n",
              "      <td>129</td>\n",
              "      <td>82</td>\n",
              "      <td>112</td>\n",
              "      <td>20</td>\n",
              "      <td>85</td>\n",
              "      <td>101</td>\n",
              "      <td>5</td>\n",
              "      <td>94</td>\n",
              "      <td>no</td>\n",
              "      <td>no</td>\n",
              "      <td>5.5</td>\n",
              "      <td>9.4</td>\n",
              "      <td>16.8</td>\n",
              "      <td>0.77</td>\n",
              "      <td>115</td>\n",
              "      <td>0.4</td>\n",
              "      <td>14.6</td>\n",
              "      <td>10.6</td>\n",
              "      <td>1443</td>\n",
              "      <td>621</td>\n",
              "      <td>yes</td>\n",
              "      <td>yes</td>\n",
              "      <td>no</td>\n",
              "      <td>126</td>\n",
              "      <td>83</td>\n",
              "      <td>68</td>\n",
              "      <td>20</td>\n",
              "      <td>98.2</td>\n",
              "      <td>12</td>\n",
              "      <td>93</td>\n",
              "      <td>no</td>\n",
              "      <td>no</td>\n",
              "      <td>8</td>\n",
              "      <td>16.3</td>\n",
              "      <td>0.68</td>\n",
              "      <td>79</td>\n",
              "      <td>0.5</td>\n",
              "      <td>6.3</td>\n",
              "      <td>0.82</td>\n",
              "      <td>1472</td>\n",
              "      <td>361</td>\n",
              "      <td>yes</td>\n",
              "      <td>93</td>\n",
              "      <td>no</td>\n",
              "      <td>no</td>\n",
              "      <td>no</td>\n",
              "      <td>NaN</td>\n",
              "    </tr>\n",
              "    <tr>\n",
              "      <th>2</th>\n",
              "      <td>3</td>\n",
              "      <td>6/28/2020</td>\n",
              "      <td>85</td>\n",
              "      <td>M</td>\n",
              "      <td>Latina</td>\n",
              "      <td>95632</td>\n",
              "      <td>yes</td>\n",
              "      <td>yes</td>\n",
              "      <td>yes</td>\n",
              "      <td>yes</td>\n",
              "      <td>no</td>\n",
              "      <td>no</td>\n",
              "      <td>no</td>\n",
              "      <td>no</td>\n",
              "      <td>no</td>\n",
              "      <td>no</td>\n",
              "      <td>no</td>\n",
              "      <td>no</td>\n",
              "      <td>yes</td>\n",
              "      <td>no</td>\n",
              "      <td>29.42</td>\n",
              "      <td>80.2</td>\n",
              "      <td>151</td>\n",
              "      <td>71</td>\n",
              "      <td>80</td>\n",
              "      <td>16</td>\n",
              "      <td>96</td>\n",
              "      <td>99</td>\n",
              "      <td>0</td>\n",
              "      <td>96</td>\n",
              "      <td>no</td>\n",
              "      <td>no</td>\n",
              "      <td>9.2</td>\n",
              "      <td>8.4</td>\n",
              "      <td>9.6</td>\n",
              "      <td>2.46</td>\n",
              "      <td>8</td>\n",
              "      <td>0.9</td>\n",
              "      <td>NaN</td>\n",
              "      <td>NaN</td>\n",
              "      <td>NaN</td>\n",
              "      <td>NaN</td>\n",
              "      <td>no</td>\n",
              "      <td>no</td>\n",
              "      <td>no</td>\n",
              "      <td>134</td>\n",
              "      <td>66</td>\n",
              "      <td>100</td>\n",
              "      <td>24</td>\n",
              "      <td>100.3</td>\n",
              "      <td>2</td>\n",
              "      <td>99</td>\n",
              "      <td>no</td>\n",
              "      <td>no</td>\n",
              "      <td>9.8</td>\n",
              "      <td>10.1</td>\n",
              "      <td>2.34</td>\n",
              "      <td>10</td>\n",
              "      <td>0.8</td>\n",
              "      <td>23.9</td>\n",
              "      <td>2.62</td>\n",
              "      <td>244</td>\n",
              "      <td>252</td>\n",
              "      <td>no</td>\n",
              "      <td>96</td>\n",
              "      <td>no</td>\n",
              "      <td>no</td>\n",
              "      <td>no</td>\n",
              "      <td>yes</td>\n",
              "    </tr>\n",
              "    <tr>\n",
              "      <th>3</th>\n",
              "      <td>4</td>\n",
              "      <td>6/28/2020</td>\n",
              "      <td>82</td>\n",
              "      <td>M</td>\n",
              "      <td>Latino</td>\n",
              "      <td>95828</td>\n",
              "      <td>yes</td>\n",
              "      <td>no</td>\n",
              "      <td>no</td>\n",
              "      <td>no</td>\n",
              "      <td>no</td>\n",
              "      <td>no</td>\n",
              "      <td>yes</td>\n",
              "      <td>yes</td>\n",
              "      <td>no</td>\n",
              "      <td>no</td>\n",
              "      <td>no</td>\n",
              "      <td>no</td>\n",
              "      <td>no</td>\n",
              "      <td>no</td>\n",
              "      <td>30.26</td>\n",
              "      <td>75.8</td>\n",
              "      <td>115</td>\n",
              "      <td>67</td>\n",
              "      <td>88</td>\n",
              "      <td>20</td>\n",
              "      <td>93</td>\n",
              "      <td>99.9</td>\n",
              "      <td>0</td>\n",
              "      <td>93</td>\n",
              "      <td>no</td>\n",
              "      <td>no</td>\n",
              "      <td>7.3</td>\n",
              "      <td>4.8</td>\n",
              "      <td>14.7</td>\n",
              "      <td>1.08</td>\n",
              "      <td>35</td>\n",
              "      <td>0.5</td>\n",
              "      <td>NaN</td>\n",
              "      <td>NaN</td>\n",
              "      <td>NaN</td>\n",
              "      <td>NaN</td>\n",
              "      <td>yes</td>\n",
              "      <td>yes</td>\n",
              "      <td>no</td>\n",
              "      <td>127</td>\n",
              "      <td>70</td>\n",
              "      <td>64</td>\n",
              "      <td>26</td>\n",
              "      <td>97.5</td>\n",
              "      <td>6</td>\n",
              "      <td>90</td>\n",
              "      <td>no</td>\n",
              "      <td>no</td>\n",
              "      <td>4.9</td>\n",
              "      <td>14.2</td>\n",
              "      <td>0.98</td>\n",
              "      <td>36</td>\n",
              "      <td>0.3</td>\n",
              "      <td>NaN</td>\n",
              "      <td>0.3</td>\n",
              "      <td>10</td>\n",
              "      <td>1300</td>\n",
              "      <td>yes</td>\n",
              "      <td>94</td>\n",
              "      <td>yes</td>\n",
              "      <td>no</td>\n",
              "      <td>yes</td>\n",
              "      <td>NaN</td>\n",
              "    </tr>\n",
              "    <tr>\n",
              "      <th>4</th>\n",
              "      <td>5</td>\n",
              "      <td>7/1/2020</td>\n",
              "      <td>66</td>\n",
              "      <td>F</td>\n",
              "      <td>Caucasian</td>\n",
              "      <td>95823</td>\n",
              "      <td>no</td>\n",
              "      <td>no</td>\n",
              "      <td>no</td>\n",
              "      <td>no</td>\n",
              "      <td>no</td>\n",
              "      <td>no</td>\n",
              "      <td>no</td>\n",
              "      <td>no</td>\n",
              "      <td>no</td>\n",
              "      <td>no</td>\n",
              "      <td>no</td>\n",
              "      <td>no</td>\n",
              "      <td>no</td>\n",
              "      <td>no</td>\n",
              "      <td>18.72</td>\n",
              "      <td>49.5</td>\n",
              "      <td>163</td>\n",
              "      <td>84</td>\n",
              "      <td>118</td>\n",
              "      <td>20</td>\n",
              "      <td>83</td>\n",
              "      <td>100.8</td>\n",
              "      <td>30</td>\n",
              "      <td>98</td>\n",
              "      <td>no</td>\n",
              "      <td>no</td>\n",
              "      <td>5.5</td>\n",
              "      <td>6.2</td>\n",
              "      <td>12.4</td>\n",
              "      <td>2.05</td>\n",
              "      <td>19</td>\n",
              "      <td>0.5</td>\n",
              "      <td>NaN</td>\n",
              "      <td>NaN</td>\n",
              "      <td>NaN</td>\n",
              "      <td>NaN</td>\n",
              "      <td>yes</td>\n",
              "      <td>no</td>\n",
              "      <td>no</td>\n",
              "      <td>107</td>\n",
              "      <td>94</td>\n",
              "      <td>92</td>\n",
              "      <td>20</td>\n",
              "      <td>97.9</td>\n",
              "      <td>40</td>\n",
              "      <td>95</td>\n",
              "      <td>no</td>\n",
              "      <td>no</td>\n",
              "      <td>7.2</td>\n",
              "      <td>11.4</td>\n",
              "      <td>0.77</td>\n",
              "      <td>18</td>\n",
              "      <td>0.2</td>\n",
              "      <td>23.9</td>\n",
              "      <td>NaN</td>\n",
              "      <td>184</td>\n",
              "      <td>537</td>\n",
              "      <td>yes</td>\n",
              "      <td>90</td>\n",
              "      <td>yes</td>\n",
              "      <td>no</td>\n",
              "      <td>no</td>\n",
              "      <td>NaN</td>\n",
              "    </tr>\n",
              "    <tr>\n",
              "      <th>5</th>\n",
              "      <td>6</td>\n",
              "      <td>7/4/2020</td>\n",
              "      <td>83</td>\n",
              "      <td>M</td>\n",
              "      <td>Caucasian</td>\n",
              "      <td>95693</td>\n",
              "      <td>yes</td>\n",
              "      <td>yes</td>\n",
              "      <td>no</td>\n",
              "      <td>no</td>\n",
              "      <td>no</td>\n",
              "      <td>no</td>\n",
              "      <td>no</td>\n",
              "      <td>yes</td>\n",
              "      <td>no</td>\n",
              "      <td>no</td>\n",
              "      <td>no</td>\n",
              "      <td>no</td>\n",
              "      <td>yes</td>\n",
              "      <td>no</td>\n",
              "      <td>29</td>\n",
              "      <td>97</td>\n",
              "      <td>140</td>\n",
              "      <td>61</td>\n",
              "      <td>106</td>\n",
              "      <td>18</td>\n",
              "      <td>93</td>\n",
              "      <td>100.1</td>\n",
              "      <td>0</td>\n",
              "      <td>93</td>\n",
              "      <td>no</td>\n",
              "      <td>no</td>\n",
              "      <td>6.8</td>\n",
              "      <td>8.8</td>\n",
              "      <td>15.7</td>\n",
              "      <td>0.78</td>\n",
              "      <td>31</td>\n",
              "      <td>0.9</td>\n",
              "      <td>0.8</td>\n",
              "      <td>242</td>\n",
              "      <td>589</td>\n",
              "      <td>153</td>\n",
              "      <td>yes</td>\n",
              "      <td>no</td>\n",
              "      <td>no</td>\n",
              "      <td>124</td>\n",
              "      <td>61</td>\n",
              "      <td>61</td>\n",
              "      <td>19</td>\n",
              "      <td>97.3</td>\n",
              "      <td>2</td>\n",
              "      <td>96</td>\n",
              "      <td>no</td>\n",
              "      <td>no</td>\n",
              "      <td>12.3</td>\n",
              "      <td>13.5</td>\n",
              "      <td>0.67</td>\n",
              "      <td>26</td>\n",
              "      <td>0.8</td>\n",
              "      <td>1.4</td>\n",
              "      <td>1.03</td>\n",
              "      <td>680</td>\n",
              "      <td>158</td>\n",
              "      <td>no</td>\n",
              "      <td>97</td>\n",
              "      <td>no</td>\n",
              "      <td>no</td>\n",
              "      <td>no</td>\n",
              "      <td>yes</td>\n",
              "    </tr>\n",
              "    <tr>\n",
              "      <th>6</th>\n",
              "      <td>7</td>\n",
              "      <td>7/5/2020</td>\n",
              "      <td>65</td>\n",
              "      <td>M</td>\n",
              "      <td>Hmong</td>\n",
              "      <td>95820</td>\n",
              "      <td>yes</td>\n",
              "      <td>yes</td>\n",
              "      <td>no</td>\n",
              "      <td>no</td>\n",
              "      <td>no</td>\n",
              "      <td>no</td>\n",
              "      <td>no</td>\n",
              "      <td>no</td>\n",
              "      <td>no</td>\n",
              "      <td>no</td>\n",
              "      <td>no</td>\n",
              "      <td>no</td>\n",
              "      <td>no</td>\n",
              "      <td>no</td>\n",
              "      <td>25.02</td>\n",
              "      <td>70.3</td>\n",
              "      <td>133</td>\n",
              "      <td>82</td>\n",
              "      <td>114</td>\n",
              "      <td>28</td>\n",
              "      <td>85</td>\n",
              "      <td>98.8</td>\n",
              "      <td>2</td>\n",
              "      <td>97</td>\n",
              "      <td>no</td>\n",
              "      <td>no</td>\n",
              "      <td>10</td>\n",
              "      <td>9.8</td>\n",
              "      <td>12.2</td>\n",
              "      <td>1.24</td>\n",
              "      <td>22</td>\n",
              "      <td>0.6</td>\n",
              "      <td>8</td>\n",
              "      <td>0.32</td>\n",
              "      <td>533</td>\n",
              "      <td>336</td>\n",
              "      <td>yes</td>\n",
              "      <td>yes</td>\n",
              "      <td>no</td>\n",
              "      <td>137</td>\n",
              "      <td>80</td>\n",
              "      <td>94</td>\n",
              "      <td>24</td>\n",
              "      <td>98</td>\n",
              "      <td>40</td>\n",
              "      <td>94</td>\n",
              "      <td>no</td>\n",
              "      <td>no</td>\n",
              "      <td>10.6</td>\n",
              "      <td>12.1</td>\n",
              "      <td>0.85</td>\n",
              "      <td>16</td>\n",
              "      <td>1</td>\n",
              "      <td>9.4</td>\n",
              "      <td>0.45</td>\n",
              "      <td>569</td>\n",
              "      <td>365</td>\n",
              "      <td>yes</td>\n",
              "      <td>96</td>\n",
              "      <td>no</td>\n",
              "      <td>yes</td>\n",
              "      <td>no</td>\n",
              "      <td>NaN</td>\n",
              "    </tr>\n",
              "    <tr>\n",
              "      <th>7</th>\n",
              "      <td>8</td>\n",
              "      <td>7/9/2020</td>\n",
              "      <td>45</td>\n",
              "      <td>M</td>\n",
              "      <td>Caucasian</td>\n",
              "      <td>95820</td>\n",
              "      <td>no</td>\n",
              "      <td>no</td>\n",
              "      <td>no</td>\n",
              "      <td>no</td>\n",
              "      <td>no</td>\n",
              "      <td>yes</td>\n",
              "      <td>no</td>\n",
              "      <td>no</td>\n",
              "      <td>no</td>\n",
              "      <td>no</td>\n",
              "      <td>no</td>\n",
              "      <td>no</td>\n",
              "      <td>no</td>\n",
              "      <td>no</td>\n",
              "      <td>40.05</td>\n",
              "      <td>141.5</td>\n",
              "      <td>148</td>\n",
              "      <td>89</td>\n",
              "      <td>111</td>\n",
              "      <td>22</td>\n",
              "      <td>89</td>\n",
              "      <td>102.9</td>\n",
              "      <td>2</td>\n",
              "      <td>97</td>\n",
              "      <td>no</td>\n",
              "      <td>no</td>\n",
              "      <td>6</td>\n",
              "      <td>5.3</td>\n",
              "      <td>15.9</td>\n",
              "      <td>0.65</td>\n",
              "      <td>31</td>\n",
              "      <td>0.5</td>\n",
              "      <td>10.9</td>\n",
              "      <td>0.41</td>\n",
              "      <td>1044</td>\n",
              "      <td>621</td>\n",
              "      <td>yes</td>\n",
              "      <td>no</td>\n",
              "      <td>no</td>\n",
              "      <td>131</td>\n",
              "      <td>73</td>\n",
              "      <td>94</td>\n",
              "      <td>18</td>\n",
              "      <td>98.7</td>\n",
              "      <td>6</td>\n",
              "      <td>95</td>\n",
              "      <td>no</td>\n",
              "      <td>no</td>\n",
              "      <td>8</td>\n",
              "      <td>11</td>\n",
              "      <td>0.57</td>\n",
              "      <td>21</td>\n",
              "      <td>0.4</td>\n",
              "      <td>12.7</td>\n",
              "      <td>0.61</td>\n",
              "      <td>1027</td>\n",
              "      <td>653</td>\n",
              "      <td>yes</td>\n",
              "      <td>95</td>\n",
              "      <td>no</td>\n",
              "      <td>no</td>\n",
              "      <td>no</td>\n",
              "      <td>NaN</td>\n",
              "    </tr>\n",
              "    <tr>\n",
              "      <th>8</th>\n",
              "      <td>9</td>\n",
              "      <td>7/10/2020</td>\n",
              "      <td>79</td>\n",
              "      <td>M</td>\n",
              "      <td>Latino</td>\n",
              "      <td>95632</td>\n",
              "      <td>yes</td>\n",
              "      <td>yes</td>\n",
              "      <td>no</td>\n",
              "      <td>no</td>\n",
              "      <td>no</td>\n",
              "      <td>no</td>\n",
              "      <td>no</td>\n",
              "      <td>no</td>\n",
              "      <td>no</td>\n",
              "      <td>no</td>\n",
              "      <td>no</td>\n",
              "      <td>no</td>\n",
              "      <td>no</td>\n",
              "      <td>no</td>\n",
              "      <td>33.11</td>\n",
              "      <td>95.9</td>\n",
              "      <td>141</td>\n",
              "      <td>76</td>\n",
              "      <td>77</td>\n",
              "      <td>19</td>\n",
              "      <td>90</td>\n",
              "      <td>98.5</td>\n",
              "      <td>2</td>\n",
              "      <td>96</td>\n",
              "      <td>no</td>\n",
              "      <td>no</td>\n",
              "      <td>8.6</td>\n",
              "      <td>5.6</td>\n",
              "      <td>13.1</td>\n",
              "      <td>1.47</td>\n",
              "      <td>22</td>\n",
              "      <td>0.8</td>\n",
              "      <td>9.1</td>\n",
              "      <td>0.58</td>\n",
              "      <td>892</td>\n",
              "      <td>491</td>\n",
              "      <td>yes</td>\n",
              "      <td>no</td>\n",
              "      <td>no</td>\n",
              "      <td>180</td>\n",
              "      <td>82</td>\n",
              "      <td>70</td>\n",
              "      <td>20</td>\n",
              "      <td>98.7</td>\n",
              "      <td>35</td>\n",
              "      <td>92</td>\n",
              "      <td>no</td>\n",
              "      <td>no</td>\n",
              "      <td>8.7</td>\n",
              "      <td>13.2</td>\n",
              "      <td>0.62</td>\n",
              "      <td>18</td>\n",
              "      <td>0.8</td>\n",
              "      <td>4.2</td>\n",
              "      <td>0.78</td>\n",
              "      <td>NaN</td>\n",
              "      <td>474</td>\n",
              "      <td>yes</td>\n",
              "      <td>96</td>\n",
              "      <td>no</td>\n",
              "      <td>no</td>\n",
              "      <td>yes</td>\n",
              "      <td>NaN</td>\n",
              "    </tr>\n",
              "    <tr>\n",
              "      <th>9</th>\n",
              "      <td>10</td>\n",
              "      <td>7/11/2020</td>\n",
              "      <td>76</td>\n",
              "      <td>F</td>\n",
              "      <td>Caucasian</td>\n",
              "      <td>95823</td>\n",
              "      <td>yes</td>\n",
              "      <td>yes</td>\n",
              "      <td>no</td>\n",
              "      <td>no</td>\n",
              "      <td>no</td>\n",
              "      <td>no</td>\n",
              "      <td>no</td>\n",
              "      <td>no</td>\n",
              "      <td>no</td>\n",
              "      <td>no</td>\n",
              "      <td>no</td>\n",
              "      <td>no</td>\n",
              "      <td>no</td>\n",
              "      <td>no</td>\n",
              "      <td>33.34</td>\n",
              "      <td>83</td>\n",
              "      <td>124</td>\n",
              "      <td>55</td>\n",
              "      <td>120</td>\n",
              "      <td>24</td>\n",
              "      <td>81</td>\n",
              "      <td>101.2</td>\n",
              "      <td>4</td>\n",
              "      <td>98</td>\n",
              "      <td>no</td>\n",
              "      <td>no</td>\n",
              "      <td>7.4</td>\n",
              "      <td>5.8</td>\n",
              "      <td>11.6</td>\n",
              "      <td>0.85</td>\n",
              "      <td>26</td>\n",
              "      <td>0.6</td>\n",
              "      <td>10.4</td>\n",
              "      <td>0.54</td>\n",
              "      <td>285</td>\n",
              "      <td>225</td>\n",
              "      <td>yes</td>\n",
              "      <td>no</td>\n",
              "      <td>no</td>\n",
              "      <td>100</td>\n",
              "      <td>53</td>\n",
              "      <td>75</td>\n",
              "      <td>22</td>\n",
              "      <td>98.2</td>\n",
              "      <td>6</td>\n",
              "      <td>91</td>\n",
              "      <td>no</td>\n",
              "      <td>no</td>\n",
              "      <td>7.8</td>\n",
              "      <td>11.5</td>\n",
              "      <td>0.61</td>\n",
              "      <td>37</td>\n",
              "      <td>0.4</td>\n",
              "      <td>5.9</td>\n",
              "      <td>0.34</td>\n",
              "      <td>397</td>\n",
              "      <td>292</td>\n",
              "      <td>yes</td>\n",
              "      <td>91</td>\n",
              "      <td>yes</td>\n",
              "      <td>no</td>\n",
              "      <td>no</td>\n",
              "      <td>transfer to ICU on day 3</td>\n",
              "    </tr>\n",
              "  </tbody>\n",
              "</table>\n",
              "</div>"
            ],
            "text/plain": [
              "  Case # Admission Date  ... Dead in 30 days            Crash > 4 days\n",
              "0      1      6/14/2020  ...              no                       NaN\n",
              "1      2      6/16/2020  ...              no                       NaN\n",
              "2      3      6/28/2020  ...              no                       yes\n",
              "3      4      6/28/2020  ...             yes                       NaN\n",
              "4      5       7/1/2020  ...              no                       NaN\n",
              "5      6       7/4/2020  ...              no                       yes\n",
              "6      7       7/5/2020  ...              no                       NaN\n",
              "7      8       7/9/2020  ...              no                       NaN\n",
              "8      9      7/10/2020  ...             yes                       NaN\n",
              "9     10      7/11/2020  ...              no  transfer to ICU on day 3\n",
              "\n",
              "[10 rows x 69 columns]"
            ]
          },
          "metadata": {
            "tags": []
          },
          "execution_count": 62
        }
      ]
    },
    {
      "cell_type": "markdown",
      "metadata": {
        "id": "-dxO7K_dzlpw",
        "colab_type": "text"
      },
      "source": [
        "Print out the data types of all our columns/factors."
      ]
    },
    {
      "cell_type": "code",
      "metadata": {
        "id": "t_SnQMS8sBMJ",
        "colab_type": "code",
        "colab": {
          "base_uri": "https://localhost:8080/",
          "height": 1000
        },
        "outputId": "323c59c7-7b90-44d3-c684-ce47654f2e47"
      },
      "source": [
        "df.info()"
      ],
      "execution_count": 63,
      "outputs": [
        {
          "output_type": "stream",
          "text": [
            "<class 'pandas.core.frame.DataFrame'>\n",
            "RangeIndex: 302 entries, 0 to 301\n",
            "Data columns (total 69 columns):\n",
            " #   Column                           Non-Null Count  Dtype \n",
            "---  ------                           --------------  ----- \n",
            " 0   Case #                           302 non-null    object\n",
            " 1   Admission Date                   302 non-null    object\n",
            " 2   Age                              302 non-null    object\n",
            " 3   Sex                              302 non-null    object\n",
            " 4   Ethnicity                        302 non-null    object\n",
            " 5   Zip code                         302 non-null    object\n",
            " 6   DM                               302 non-null    object\n",
            " 7   HTN                              302 non-null    object\n",
            " 8   Prior MI (Stent CABG)            302 non-null    object\n",
            " 9   CHF (HFrEF)                      302 non-null    object\n",
            " 10  CHF (HFpEF)                      302 non-null    object\n",
            " 11  OSA                              302 non-null    object\n",
            " 12  Sick Contact hospitalized?       302 non-null    object\n",
            " 13  Chronic Lung Disease (COPD etc)  302 non-null    object\n",
            " 14  Immunne suppressed / Transplant  302 non-null    object\n",
            " 15  Liver Cirrhosis                  302 non-null    object\n",
            " 16  ESRD on HD                       302 non-null    object\n",
            " 17  Active Smoker / Vaping           302 non-null    object\n",
            " 18  Fomer smoker / vaper             302 non-null    object\n",
            " 19  Active pregnancy                 302 non-null    object\n",
            " 20  BMI                              291 non-null    object\n",
            " 21  Weight (kg)                      302 non-null    object\n",
            " 22  SBP                              302 non-null    object\n",
            " 23  DBP                              302 non-null    object\n",
            " 24  P                                302 non-null    object\n",
            " 25  R                                301 non-null    object\n",
            " 26  Rom Air Sat                      302 non-null    object\n",
            " 27  Temp (F)                         301 non-null    object\n",
            " 28  Zero to 60 L oxygen              299 non-null    object\n",
            " 29  Oxyen sat on highest oxygen      299 non-null    object\n",
            " 30  CPAP / BiPAP                     299 non-null    object\n",
            " 31  Intubation                       299 non-null    object\n",
            " 32  HGBA1c (+/1 100 days)            300 non-null    object\n",
            " 33  WBC                              301 non-null    object\n",
            " 34  HGB                              301 non-null    object\n",
            " 35  Creat                            301 non-null    object\n",
            " 36  ALT                              281 non-null    object\n",
            " 37  TBILI                            278 non-null    object\n",
            " 38  CRP                              258 non-null    object\n",
            " 39  DDimer                           264 non-null    object\n",
            " 40  Ferritin                         234 non-null    object\n",
            " 41  LDH                              229 non-null    object\n",
            " 42  Decadron                         291 non-null    object\n",
            " 43  Remdesivir                       291 non-null    object\n",
            " 44  Convalesent Plasma               291 non-null    object\n",
            " 45  SBP.1                            290 non-null    object\n",
            " 46  DBP.1                            290 non-null    object\n",
            " 47  P.1                              291 non-null    object\n",
            " 48  R.1                              290 non-null    object\n",
            " 49  Temp (F).1                       291 non-null    object\n",
            " 50  Zero to 60 L oxygen.1            291 non-null    object\n",
            " 51  Oxyen sat on highest oxygen.1    291 non-null    object\n",
            " 52  CPAP / BiPAP.1                   291 non-null    object\n",
            " 53  Intubation.1                     291 non-null    object\n",
            " 54  WBC.1                            287 non-null    object\n",
            " 55  HGB.1                            287 non-null    object\n",
            " 56  Creat.1                          284 non-null    object\n",
            " 57  ALT.1                            259 non-null    object\n",
            " 58  TBILI.1                          255 non-null    object\n",
            " 59  CRP.1                            238 non-null    object\n",
            " 60  DDimer.1                         238 non-null    object\n",
            " 61  Ferritin.1                       205 non-null    object\n",
            " 62  LDH.1                            168 non-null    object\n",
            " 63  Zero to 60 L oxygen.2            302 non-null    object\n",
            " 64  Oxyen sat on highest oxygen.2    275 non-null    object\n",
            " 65  CPAP / BiPAP.2                   277 non-null    object\n",
            " 66  Intubation.2                     277 non-null    object\n",
            " 67  Dead in 30 days                  302 non-null    object\n",
            " 68  Crash > 4 days                   44 non-null     object\n",
            "dtypes: object(69)\n",
            "memory usage: 162.9+ KB\n"
          ],
          "name": "stdout"
        }
      ]
    },
    {
      "cell_type": "markdown",
      "metadata": {
        "id": "yOsgA1_Nz3Br",
        "colab_type": "text"
      },
      "source": [
        "XGBoost does not accept the object data type so we have to convert any entires we need to a float or bool."
      ]
    },
    {
      "cell_type": "code",
      "metadata": {
        "id": "6eYt1ZwIldPh",
        "colab_type": "code",
        "colab": {}
      },
      "source": [
        "#necessary to run\n",
        "yesNoList = ['DM','HTN','Prior MI (Stent CABG)','CHF (HFrEF)','CHF (HFpEF)',\n",
        "'OSA','Sick Contact hospitalized?','Chronic Lung Disease (COPD etc)','Immunne suppressed / Transplant',\n",
        "'Liver Cirrhosis','ESRD on HD', 'Active Smoker / Vaping', 'Fomer smoker / vaper', 'Active pregnancy',\n",
        "'CPAP / BiPAP','Intubation','Decadron','Remdesivir','Convalesent Plasma', 'CPAP / BiPAP.1', 'Intubation.1',\n",
        "'CPAP / BiPAP.2','Intubation.2','Dead in 30 days','Crash > 4 days', 'Zero to 60 L oxygen.2', 'Dead in 30 days']\n",
        "convertDict = {'Age':float, 'Zip code':float, 'BMI':float, 'Weight (kg)':float, 'SBP':float, 'DBP':float, 'P':float, 'R':float,\n",
        "               'Rom Air Sat':float, 'Temp (F)':float, 'Zero to 60 L oxygen':float,\n",
        "               'Oxyen sat on highest oxygen':float, 'HGBA1c (+/1 100 days)':float, 'WBC':float,\n",
        "               'HGB':float, 'Creat':float, 'ALT':float, 'TBILI':float, 'CRP': float, 'DDimer': float,\n",
        "\t       'Ferritin':float, 'LDH':float, 'SBP.1':float, 'DBP.1': float, 'P.1':float, 'R.1':float,\n",
        "               'Temp (F).1':float, 'Zero to 60 L oxygen.1':float, 'Oxyen sat on highest oxygen.1':float,\n",
        "               'WBC.1':float, 'HGB.1':float, 'Creat.1':float, 'ALT.1':float, 'TBILI.1':float,\n",
        "               'CRP.1':float, 'DDimer.1':float, 'Ferritin.1':float, 'LDH.1':float, 'DM':bool, 'HTN':bool,\n",
        "\t       'Prior MI (Stent CABG)':bool, 'Chronic Lung Disease (COPD etc)':bool, 'ESRD on HD':bool,\n",
        "\t       'CPAP / BiPAP':bool, 'Intubation':bool, 'Decadron':bool, 'Remdesivir':bool, 'Convalesent Plasma':bool,\n",
        "\t       'CPAP / BiPAP.1':bool, 'Intubation.1':bool\n",
        "               }\n",
        "\n",
        "for i in yesNoList:\n",
        "    df[i] = df[i].map({'yes':True, 'no':False, 'Yes':True, 'No':False, 'yes ':True, 'no ':False})\n",
        "df['Sex'] = df['Sex'].map({'M': False, 'F': True})\n",
        "df = df.astype(convertDict)"
      ],
      "execution_count": 64,
      "outputs": []
    },
    {
      "cell_type": "markdown",
      "metadata": {
        "id": "kJXscllp0D-o",
        "colab_type": "text"
      },
      "source": [
        "We can check to make sure that the data was converted properly if the data types have changed."
      ]
    },
    {
      "cell_type": "code",
      "metadata": {
        "id": "DRxCME1jsAYH",
        "colab_type": "code",
        "colab": {
          "base_uri": "https://localhost:8080/",
          "height": 1000
        },
        "outputId": "cc25c5f2-a12e-4196-c29d-f70316c556c5"
      },
      "source": [
        "df.info()"
      ],
      "execution_count": 65,
      "outputs": [
        {
          "output_type": "stream",
          "text": [
            "<class 'pandas.core.frame.DataFrame'>\n",
            "RangeIndex: 302 entries, 0 to 301\n",
            "Data columns (total 69 columns):\n",
            " #   Column                           Non-Null Count  Dtype  \n",
            "---  ------                           --------------  -----  \n",
            " 0   Case #                           302 non-null    object \n",
            " 1   Admission Date                   302 non-null    object \n",
            " 2   Age                              302 non-null    float64\n",
            " 3   Sex                              302 non-null    bool   \n",
            " 4   Ethnicity                        302 non-null    object \n",
            " 5   Zip code                         302 non-null    float64\n",
            " 6   DM                               302 non-null    bool   \n",
            " 7   HTN                              302 non-null    bool   \n",
            " 8   Prior MI (Stent CABG)            302 non-null    bool   \n",
            " 9   CHF (HFrEF)                      302 non-null    bool   \n",
            " 10  CHF (HFpEF)                      302 non-null    bool   \n",
            " 11  OSA                              302 non-null    bool   \n",
            " 12  Sick Contact hospitalized?       302 non-null    bool   \n",
            " 13  Chronic Lung Disease (COPD etc)  302 non-null    bool   \n",
            " 14  Immunne suppressed / Transplant  302 non-null    bool   \n",
            " 15  Liver Cirrhosis                  302 non-null    bool   \n",
            " 16  ESRD on HD                       302 non-null    bool   \n",
            " 17  Active Smoker / Vaping           302 non-null    bool   \n",
            " 18  Fomer smoker / vaper             302 non-null    bool   \n",
            " 19  Active pregnancy                 302 non-null    bool   \n",
            " 20  BMI                              291 non-null    float64\n",
            " 21  Weight (kg)                      302 non-null    float64\n",
            " 22  SBP                              302 non-null    float64\n",
            " 23  DBP                              302 non-null    float64\n",
            " 24  P                                302 non-null    float64\n",
            " 25  R                                301 non-null    float64\n",
            " 26  Rom Air Sat                      302 non-null    float64\n",
            " 27  Temp (F)                         301 non-null    float64\n",
            " 28  Zero to 60 L oxygen              299 non-null    float64\n",
            " 29  Oxyen sat on highest oxygen      299 non-null    float64\n",
            " 30  CPAP / BiPAP                     302 non-null    bool   \n",
            " 31  Intubation                       302 non-null    bool   \n",
            " 32  HGBA1c (+/1 100 days)            300 non-null    float64\n",
            " 33  WBC                              301 non-null    float64\n",
            " 34  HGB                              301 non-null    float64\n",
            " 35  Creat                            301 non-null    float64\n",
            " 36  ALT                              281 non-null    float64\n",
            " 37  TBILI                            278 non-null    float64\n",
            " 38  CRP                              258 non-null    float64\n",
            " 39  DDimer                           264 non-null    float64\n",
            " 40  Ferritin                         234 non-null    float64\n",
            " 41  LDH                              229 non-null    float64\n",
            " 42  Decadron                         302 non-null    bool   \n",
            " 43  Remdesivir                       302 non-null    bool   \n",
            " 44  Convalesent Plasma               302 non-null    bool   \n",
            " 45  SBP.1                            290 non-null    float64\n",
            " 46  DBP.1                            290 non-null    float64\n",
            " 47  P.1                              291 non-null    float64\n",
            " 48  R.1                              290 non-null    float64\n",
            " 49  Temp (F).1                       291 non-null    float64\n",
            " 50  Zero to 60 L oxygen.1            291 non-null    float64\n",
            " 51  Oxyen sat on highest oxygen.1    291 non-null    float64\n",
            " 52  CPAP / BiPAP.1                   302 non-null    bool   \n",
            " 53  Intubation.1                     302 non-null    bool   \n",
            " 54  WBC.1                            287 non-null    float64\n",
            " 55  HGB.1                            287 non-null    float64\n",
            " 56  Creat.1                          284 non-null    float64\n",
            " 57  ALT.1                            259 non-null    float64\n",
            " 58  TBILI.1                          255 non-null    float64\n",
            " 59  CRP.1                            238 non-null    float64\n",
            " 60  DDimer.1                         238 non-null    float64\n",
            " 61  Ferritin.1                       205 non-null    float64\n",
            " 62  LDH.1                            168 non-null    float64\n",
            " 63  Zero to 60 L oxygen.2            302 non-null    bool   \n",
            " 64  Oxyen sat on highest oxygen.2    275 non-null    object \n",
            " 65  CPAP / BiPAP.2                   276 non-null    object \n",
            " 66  Intubation.2                     277 non-null    object \n",
            " 67  Dead in 30 days                  0 non-null      object \n",
            " 68  Crash > 4 days                   10 non-null     object \n",
            "dtypes: bool(23), float64(38), object(8)\n",
            "memory usage: 115.4+ KB\n"
          ],
          "name": "stdout"
        }
      ]
    },
    {
      "cell_type": "markdown",
      "metadata": {
        "id": "z1cLRwoI0PwR",
        "colab_type": "text"
      },
      "source": [
        "Create some pie charts that will help visualize our data."
      ]
    },
    {
      "cell_type": "code",
      "metadata": {
        "id": "UAuyuMhMWCSF",
        "colab_type": "code",
        "colab": {
          "base_uri": "https://localhost:8080/",
          "height": 248
        },
        "outputId": "a0938f59-8521-4c5b-89f9-0e6467a76812"
      },
      "source": [
        "labels = 'Female', 'Male'\n",
        "sizes = [df.loc[df['Sex'] == True].shape[0], df.loc[df['Sex'] == False].shape[0]]\n",
        "\n",
        "plt.pie(sizes, labels=labels, autopct='%1.1f%%', shadow=True)\n",
        "\n",
        "plt.show()"
      ],
      "execution_count": 66,
      "outputs": [
        {
          "output_type": "display_data",
          "data": {
            "image/png": "[encoded data removed]",
            "text/plain": [
              "<Figure size 432x288 with 1 Axes>"
            ]
          },
          "metadata": {
            "tags": []
          }
        }
      ]
    },
    {
      "cell_type": "code",
      "metadata": {
        "scrolled": true,
        "id": "j24TC8UJWCSK",
        "colab_type": "code",
        "colab": {
          "base_uri": "https://localhost:8080/",
          "height": 265
        },
        "outputId": "3c829fed-9bb3-49c6-9982-24c5f1422a5e"
      },
      "source": [
        "print('Intubation in 24 Hours')\n",
        "labels = 'Intubation ', 'No Intubation'\n",
        "sizes = [df.loc[df['Intubation.1'] == 1].shape[0], df.loc[df['Intubation.1'] == 0].shape[0]]\n",
        "\n",
        "plt.pie(sizes, labels=labels, autopct='%1.1f%%', shadow=True)\n",
        "\n",
        "plt.show()"
      ],
      "execution_count": 73,
      "outputs": [
        {
          "output_type": "stream",
          "text": [
            "Intubation in 24 Hours\n"
          ],
          "name": "stdout"
        },
        {
          "output_type": "display_data",
          "data": {
            "image/png": "[encoded data removed]",
            "text/plain": [
              "<Figure size 432x288 with 1 Axes>"
            ]
          },
          "metadata": {
            "tags": []
          }
        }
      ]
    },
    {
      "cell_type": "code",
      "metadata": {
        "id": "2PyD_IaE9BiG",
        "colab_type": "code",
        "colab": {}
      },
      "source": [
        "print('Zero to 60 L oxygen.2')\n",
        "labels = '>=30L ', '<30L'\n",
        "sizes = [df.loc[df['Zero to 60 L oxygen.2'] == 1].shape[0], df.loc[df['Zero to 60 L oxygen.2'] == 0].shape[0]]\n",
        "\n",
        "plt.pie(sizes, labels=labels, autopct='%1.1f%%', shadow=True)\n",
        "\n",
        "plt.show()"
      ],
      "execution_count": null,
      "outputs": []
    },
    {
      "cell_type": "code",
      "metadata": {
        "id": "fS2Xuz2hWCSP",
        "colab_type": "code",
        "colab": {}
      },
      "source": [
        "#Create a pie chart for the \"Death\" factor"
      ],
      "execution_count": 68,
      "outputs": []
    },
    {
      "cell_type": "markdown",
      "metadata": {
        "id": "zVnaEyuB0jWc",
        "colab_type": "text"
      },
      "source": [
        "Create some histograms to show correlations between certain factors."
      ]
    },
    {
      "cell_type": "code",
      "metadata": {
        "id": "h1K8a4yiWCSU",
        "colab_type": "code",
        "colab": {
          "base_uri": "https://localhost:8080/",
          "height": 242
        },
        "outputId": "5af5c8c9-17ab-4a16-f2a3-eb8af01addfc"
      },
      "source": [
        "g = sns.FacetGrid(df, col=\"Intubation.1\")\n",
        "print(\"Intubation In 24 Hours\")\n",
        "g.map(plt.hist, \"Age\");"
      ],
      "execution_count": 70,
      "outputs": [
        {
          "output_type": "stream",
          "text": [
            "Intubation In 24 Hours\n"
          ],
          "name": "stdout"
        },
        {
          "output_type": "display_data",
          "data": {
            "image/png": "[encoded data removed]",
            "text/plain": [
              "<Figure size 432x216 with 2 Axes>"
            ]
          },
          "metadata": {
            "tags": [],
            "needs_background": "light"
          }
        }
      ]
    },
    {
      "cell_type": "code",
      "metadata": {
        "id": "l6YOqSg6vFWR",
        "colab_type": "code",
        "colab": {
          "base_uri": "https://localhost:8080/",
          "height": 242
        },
        "outputId": "26658c59-3631-43a2-f4f3-ffbf17a77399"
      },
      "source": [
        "g = sns.FacetGrid(df, col=\"Zero to 60 L oxygen.2\")\n",
        "print(\"Intubation in 24 Hours\")\n",
        "g.map(plt.hist, \"BMI\");"
      ],
      "execution_count": 78,
      "outputs": [
        {
          "output_type": "stream",
          "text": [
            "Intubation in 24 Hours\n"
          ],
          "name": "stdout"
        },
        {
          "output_type": "display_data",
          "data": {
            "image/png": "[encoded data removed]",
            "text/plain": [
              "<Figure size 432x216 with 2 Axes>"
            ]
          },
          "metadata": {
            "tags": [],
            "needs_background": "light"
          }
        }
      ]
    },
    {
      "cell_type": "code",
      "metadata": {
        "id": "z_K_XIXW95w2",
        "colab_type": "code",
        "colab": {
          "base_uri": "https://localhost:8080/",
          "height": 242
        },
        "outputId": "07c77f31-a8b0-4dc2-92dd-35450bdbb08d"
      },
      "source": [
        "g = sns.FacetGrid(df, col=\"Zero to 60 L oxygen.2\")\n",
        "print(\"Hi-flow Oxygen in 96 hours\")\n",
        "g.map(plt.hist, \"CRP.1\");"
      ],
      "execution_count": 77,
      "outputs": [
        {
          "output_type": "stream",
          "text": [
            "Oxygen in 96 hours\n"
          ],
          "name": "stdout"
        },
        {
          "output_type": "display_data",
          "data": {
            "image/png": "[encoded data removed]",
            "text/plain": [
              "<Figure size 432x216 with 2 Axes>"
            ]
          },
          "metadata": {
            "tags": [],
            "needs_background": "light"
          }
        }
      ]
    },
    {
      "cell_type": "code",
      "metadata": {
        "id": "6DpUBpJosUCn",
        "colab_type": "code",
        "colab": {
          "base_uri": "https://localhost:8080/",
          "height": 51
        },
        "outputId": "dffb81c7-3eb2-44aa-e34b-f04a5e47e699"
      },
      "source": [
        "g = sns.FacetGrid(df, col=\"LDH.1\")\n",
        "print(\"       Low Oxygen        vs     High Oxygen\")\n",
        "g.map(plt.hist, \"LDH.1\");"
      ],
      "execution_count": 80,
      "outputs": [
        {
          "output_type": "stream",
          "text": [
            "       Low Oxygen        vs     High Oxygen\n"
          ],
          "name": "stdout"
        },
        {
          "output_type": "display_data",
          "data": {
            "image/png": "[encoded data removed]",
            "text/plain": [
              "<Figure size 30024x216 with 139 Axes>"
            ]
          },
          "metadata": {
            "tags": [],
            "needs_background": "light"
          }
        }
      ]
    },
    {
      "cell_type": "code",
      "metadata": {
        "id": "ajLvntVl006h",
        "colab_type": "code",
        "colab": {}
      },
      "source": [
        "#create a histogram that shows Oxygen3 as col and weight as a correlation"
      ],
      "execution_count": null,
      "outputs": []
    },
    {
      "cell_type": "markdown",
      "metadata": {
        "id": "ibBeJQus1Aju",
        "colab_type": "text"
      },
      "source": [
        "Output data and statistics."
      ]
    },
    {
      "cell_type": "code",
      "metadata": {
        "id": "WJAXYJwhWCSZ",
        "colab_type": "code",
        "colab": {}
      },
      "source": [
        "df.loc(0)[4]\n",
        "#Get the information for the fifth patient"
      ],
      "execution_count": null,
      "outputs": []
    },
    {
      "cell_type": "code",
      "metadata": {
        "id": "omMLmMOQWCSk",
        "colab_type": "code",
        "colab": {}
      },
      "source": [
        "#output the number of deaths and the number of total cases\n",
        "print(\"Total number of Deaths:\")\n",
        "print(len(df.loc[df['Death'] == 1]))\n",
        "print(\"\")\n",
        "print(\"Total number of Deaths: \" + str(len(df.loc[df['Death'] == 1])))\n",
        "print(\"Total Cases: \" + str(len(df)))\n",
        "print(\"Mortality Rate: \" + str(len(df.loc[df['Death'] == 1])/len(df)))"
      ],
      "execution_count": null,
      "outputs": []
    },
    {
      "cell_type": "markdown",
      "metadata": {
        "id": "Kv0rrTop1o6G",
        "colab_type": "text"
      },
      "source": [
        "Some other ways to create histograms."
      ]
    },
    {
      "cell_type": "code",
      "metadata": {
        "id": "j6PtvhAqWCSt",
        "colab_type": "code",
        "colab": {}
      },
      "source": [
        "fig = plt.figure(figsize=(30,10))\n",
        "fig.add_subplot(2,5,1)\n",
        "sns.distplot(df['Age'])\n",
        "fig.add_subplot(2,5,2)\n",
        "sns.distplot(df['Temp'])\n",
        "fig.add_subplot(2,5,3)\n",
        "sns.distplot(df['CRP'])\n",
        "fig.add_subplot(2,5,4)\n",
        "sns.distplot(df['DDimer'])\n",
        "fig.add_subplot(2,5,5)\n",
        "sns.distplot(df['Ferritin'])\n",
        "fig.add_subplot(2,5,6)\n",
        "sns.distplot(df['LDH'])\n"
      ],
      "execution_count": null,
      "outputs": []
    },
    {
      "cell_type": "code",
      "metadata": {
        "id": "g18XjsqItUZa",
        "colab_type": "code",
        "colab": {}
      },
      "source": [
        "graphList = ['Age', 'BMI', 'Wt']\n",
        "graphs = plt.figure(figsize=(25,20),dpi=100)\n",
        "plt.subplots_adjust(hspace=1)\n",
        "for k in range(1,len(graphList) + 1):\n",
        "    graphs.add_subplot(6,7,k)\n",
        "    sns.distplot(df[graphList[k-1]], hist=True, kde=True, bins=int(len(df)/8), color = 'tomato', kde_kws={'linewidth': 2})"
      ],
      "execution_count": null,
      "outputs": []
    },
    {
      "cell_type": "markdown",
      "metadata": {
        "id": "nLD7_BKeaG-x",
        "colab_type": "text"
      },
      "source": [
        "Let's start implementing the machine learning part of this application."
      ]
    },
    {
      "cell_type": "code",
      "metadata": {
        "id": "dErc-Qz3k1gu",
        "colab_type": "code",
        "colab": {}
      },
      "source": [
        "inputColumns = ['Age','Sex','Zip', 'BMI', 'Wt', 'Oxygen',\n",
        "               'CRP', 'DDimer',\t'Ferritin',\t'LDH',\n",
        "               'Oxygen2', 'CRP2', 'DDimer2', 'Ferritin2',\n",
        "               'LDH2']\n",
        "outputColumn = 'Oxygen3'\n",
        "\n",
        "inputData = df[inputColumns] #\"X\"\n",
        "outputData = df[outputColumn] #\"Y\"\n",
        "\n",
        "print(inputData)\n",
        "print(outputData)"
      ],
      "execution_count": null,
      "outputs": []
    },
    {
      "cell_type": "markdown",
      "metadata": {
        "id": "aa9u_a8glDZY",
        "colab_type": "text"
      },
      "source": [
        "Next we need to split the data into a set to train the model and a set to test the model. For the random_state parameter, change the number to any reasonable whole number.  Very imprtant to change the random_state seed number. \n",
        "### Change the Random State ###  Eric uses 2, Harrison 42, Carter 28, Gary 4\n"
      ]
    },
    {
      "cell_type": "code",
      "metadata": {
        "id": "jwpw9hLnlA47",
        "colab_type": "code",
        "colab": {}
      },
      "source": [
        "inputTrain, inputTest, outputTrain, outputTest = train_test_split(inputData, outputData, test_size = .3, random_state = 28)\n"
      ],
      "execution_count": null,
      "outputs": []
    },
    {
      "cell_type": "markdown",
      "metadata": {
        "id": "P_VXbOMOlbfC",
        "colab_type": "text"
      },
      "source": [
        "Store the data into matricies. These matricies are recognized by XGBoost and can be used to train the model.\n"
      ]
    },
    {
      "cell_type": "code",
      "metadata": {
        "id": "OCrLeQ7VlU2L",
        "colab_type": "code",
        "colab": {}
      },
      "source": [
        "trainMatrix = xgb.DMatrix(inputTrain, label=outputTrain, feature_names=inputColumns[:15])\n",
        "testMatrix = xgb.DMatrix(inputTest, label=outputTest, feature_names=inputColumns[:15])"
      ],
      "execution_count": null,
      "outputs": []
    },
    {
      "cell_type": "markdown",
      "metadata": {
        "id": "DUC2W4LqlJWB",
        "colab_type": "text"
      },
      "source": [
        "Find the best parameters for training a model. This is essentially fine tuning the settings and picking the option that give the best results in training. For now, we will use nested for loops to indiviudally check each combination but this will take time."
      ]
    },
    {
      "cell_type": "code",
      "metadata": {
        "id": "0vtpkK0JlJER",
        "colab_type": "code",
        "colab": {}
      },
      "source": [
        "param_grid = {'eta':[.3,.25,.2,.15,0.1,.075], 'max_depth':np.arange(1,10,5).tolist(), 'subsample':np.arange(1,0.1,-0.45).tolist(), 'colsample_bytree':np.arange(1,0.1,-0.45).tolist(), 'min_child_weight':np.arange(1,100,45).tolist()}\n",
        "bestParams = {}\n",
        "lowestError = 2048\n",
        "\n",
        "for max_depth in param_grid['max_depth']:\n",
        "    for eta in param_grid['eta']:\n",
        "        for subsample in param_grid['subsample']:\n",
        "            for colsample_bytree in param_grid['colsample_bytree']:\n",
        "                for min_child_weight in param_grid['min_child_weight']:\n",
        "                    cvResults = xgb.cv({'max_depth':max_depth, 'eta':eta, 'subsample':subsample, 'colsample_bytree':colsample_bytree, 'min_child_weight':min_child_weight, 'objective':'binary:logistic', 'eval_metric': 'error'}, trainMatrix, num_boost_round=600, seed=2, nfold=5, early_stopping_rounds=125)\n",
        "                    if abs(cvResults['test-{}-mean'.format('error')]).min() < lowestError:\n",
        "                        lowestError = abs(cvResults['test-{}-mean'.format('error')]).min()\n",
        "                        bestParams = {'max_depth':max_depth, 'eta':eta, 'subsample':subsample, 'colsample_bytree':colsample_bytree, 'min_child_weight':min_child_weight, 'objective':'binary:logistic', 'eval_metric': 'error'}\n",
        "                    print(str(abs(cvResults['test-{}-mean'.format('error')]).min()) + ' , ' + str(lowestError))\n",
        "print(bestParams)\n",
        "print(lowestError)"
      ],
      "execution_count": null,
      "outputs": []
    },
    {
      "cell_type": "markdown",
      "metadata": {
        "id": "BF9Ya9cvmGfa",
        "colab_type": "text"
      },
      "source": [
        "Train Model"
      ]
    },
    {
      "cell_type": "code",
      "metadata": {
        "id": "mRLTepC7mD5h",
        "colab_type": "code",
        "colab": {}
      },
      "source": [
        "model = xgb.train(bestParams, trainMatrix, 1000, evals=[(testMatrix, \"Test\")], early_stopping_rounds=500)\n"
      ],
      "execution_count": null,
      "outputs": []
    },
    {
      "cell_type": "markdown",
      "metadata": {
        "id": "W28Q4ZEWl5Ua",
        "colab_type": "text"
      },
      "source": [
        "We can save the model to a file so we can import and use it later without having to retrain it from scratch.\n"
      ]
    },
    {
      "cell_type": "code",
      "metadata": {
        "id": "Mq0bm1V7lqcY",
        "colab_type": "code",
        "colab": {}
      },
      "source": [
        "model.save_model('/content/drive/My Drive/modelName.model')"
      ],
      "execution_count": null,
      "outputs": []
    },
    {
      "cell_type": "markdown",
      "metadata": {
        "id": "7Z8RWtqxms7P",
        "colab_type": "text"
      },
      "source": [
        "Now we can view the results of the training. The accuracy of the model will typically vary depending on the nature of the data, the quantity of the data, how the data is split, and the time spend parametrizing and training."
      ]
    },
    {
      "cell_type": "markdown",
      "metadata": {
        "id": "joIJK9T4mqjo",
        "colab_type": "text"
      },
      "source": [
        "\n",
        "# Print\n"
      ]
    },
    {
      "cell_type": "code",
      "metadata": {
        "id": "E1kawHQemtxX",
        "colab_type": "code",
        "colab": {}
      },
      "source": [
        "outputTrainPredict = model.predict(trainMatrix)\n",
        "outputTestPredict = model.predict(testMatrix)\n",
        "\n",
        "print(\"The Results of _____'s Model:\\n\")\n",
        "print(\"Training Accuracy: \" + str(accuracy_score(outputTrain, outputTrainPredict.round())))\n",
        "print(\"Testing Accuracy: \" + str(accuracy_score(outputTest, outputTestPredict.round())) + \"\\n\")\n",
        "\n",
        "print(classification_report(outputTest, outputTestPredict.round()))\n",
        "print(\"\\n\\t   Predicted\")\n",
        "print(pd.crosstab(outputTest, outputTestPredict.round()))\n",
        "#print(outputTest)\n",
        "#print(abs(outputTestPredict.round()))\n",
        "\n",
        "truePositive = 0\n",
        "trueNegative = 0\n",
        "falsePositive = 0\n",
        "falseNegative = 0\n",
        "\n",
        "\n",
        "for i in range(len(outputTest)):\n",
        "  if outputTest.values[i] == True and outputTestPredict.round()[i] == 1:\n",
        "    truePositive = truePositive + 1\n",
        "  elif outputTest.values[i] == False and outputTestPredict.round()[i] == 0:\n",
        "    trueNegative = trueNegative + 1\n",
        "  elif outputTest.values[i] == True and outputTestPredict.round()[i] == 0:\n",
        "    falseNegative = falseNegative + 1\n",
        "  elif outputTest.values[i] == False and outputTestPredict.round()[i] == 1:\n",
        "    falsePositive = falsePositive + 1\n",
        "print(\"\\nTrue Positives: \" + str(truePositive))\n",
        "print(\"True Negatives: \" + str(trueNegative))\n",
        "print(\"False Negatives (Type II error): \" + str(falseNegative))\n",
        "print(\"False Positives (Type I error): \" + str(falsePositive))\n",
        "print(\"Sensitivity: \" + str(truePositive / (truePositive + falseNegative)))\n",
        "print(\"Specificity: \" + str(trueNegative / (trueNegative + falsePositive)))\n",
        "print(\"Positve Predicted Rate: \" + str(truePositive / (truePositive + falsePositive)))\n",
        "print(\"Negative Predicted Rate: \" + str(trueNegative / (trueNegative + falseNegative)) + \"\\n\")\n",
        "\n",
        "fig, ax = plt.subplots(figsize=(15,12))\n",
        "xgb.plot_importance(model, ax=ax)"
      ],
      "execution_count": null,
      "outputs": []
    },
    {
      "cell_type": "code",
      "metadata": {
        "id": "rdS7W5G3lAux",
        "colab_type": "code",
        "colab": {}
      },
      "source": [
        "Enter External Validation \n"
      ],
      "execution_count": null,
      "outputs": []
    },
    {
      "cell_type": "code",
      "metadata": {
        "id": "RYpZJrzYmqGD",
        "colab_type": "code",
        "colab": {}
      },
      "source": [
        "dataList = []\n",
        "dataList.append(int(input(\"Enter Age: \")))\n",
        "gender = input(\"Enter Gender (M or F): \")\n",
        "if gender == \"F\": dataList.append(True)\n",
        "else: dataList.append(False)\n",
        "dataList.append(int(input(\"Enter Zip Code: \")))\n",
        "dataList.append(float(input(\"Enter BMI: \")))\n",
        "dataList.append(float(input(\"Enter Weight: \")))\n",
        "dataList.append(float(input(\"Enter Oxygen: \")))\n",
        "dataList.append(float(input(\"Enter CRP: \")))\n",
        "dataList.append(float(input(\"Enter DDimer: \")))\n",
        "dataList.append(float(input(\"Enter Ferritin: \")))\n",
        "dataList.append(float(input(\"Enter LDH: \")))\n",
        "dataList.append(float(input(\"Enter Oxygen2: \")))\n",
        "dataList.append(float(input(\"Enter CRP2): \")))\n",
        "dataList.append(float(input(\"Enter DDimer2: \")))\n",
        "dataList.append(float(input(\"Enter Ferritin2: \")))\n",
        "dataList.append(float(input(\"Enter LDH2: \")))\n",
        "\n",
        "print(dataList)\n",
        "#dataList = [82,\tFalse,\t95828,\t30.26,\t75.8,\t0, 9.1, 1.39, 650, 550, 50, 12.5, 1, 800, 600]\n",
        "df2 = pd.DataFrame(np.array([dataList]),)\n",
        "exampleMatrix = xgb.DMatrix(df2, label=outputTrain, feature_names=inputColumns[:15])\n",
        "exampleResult = model.predict(exampleMatrix).round()\n",
        "if exampleResult == 1:\n",
        "  print(\"Predicted Result: Oxygen\") \n",
        "else:\n",
        "  print(\"Predicted Result: No Oxygen\")\n"
      ],
      "execution_count": null,
      "outputs": []
    }
  ]
}